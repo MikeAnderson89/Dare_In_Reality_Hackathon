{
 "cells": [
  {
   "cell_type": "code",
   "execution_count": 1,
   "metadata": {},
   "outputs": [],
   "source": [
    "import pandas as pd\n",
    "import numpy as np\n",
    "from datetime import datetime, timedelta\n",
    "\n",
    "pd.set_option('display.max_columns', None)"
   ]
  },
  {
   "cell_type": "code",
   "execution_count": 2,
   "metadata": {},
   "outputs": [],
   "source": [
    "df = pd.read_csv('../Data/train.csv')\n",
    "df.columns = [x.title().strip() for x in df.columns]\n",
    "df = df.dropna(subset=['S1'])\n",
    "\n",
    "drop_cols = ['S1_Large', 'S2_Large', 'S3_Large']"
   ]
  },
  {
   "cell_type": "code",
   "execution_count": 3,
   "metadata": {},
   "outputs": [],
   "source": [
    "df['Event'].value_counts()\n",
    "\n",
    "for index, row in df.iterrows():\n",
    "    number = str(row['Number'])\n",
    "    location_number = row['Location'][-1:]\n",
    "    if row['Event'] == 'Free Practice 1':\n",
    "        event = 'FP1'\n",
    "    elif row['Event'] == 'Free Practice 2':\n",
    "        event = 'FP2'\n",
    "    elif row['Event'] == 'Free Practice 3':\n",
    "        event = 'FP3'\n",
    "    elif row['Event'] == 'Qualifying Group 1':\n",
    "        event = 'QG1'\n",
    "    elif row['Event'] == 'Qualifying Group 2':\n",
    "        event = 'QG2'\n",
    "    elif row['Event'] == 'Qualifying Group 3':\n",
    "        event = 'QG3'\n",
    "    elif row['Event'] == 'Qualifying Group 4':\n",
    "        event = 'QG4'\n",
    "    df.at[index, 'Trial_ID'] = event + '-' + location_number + '-' + number"
   ]
  },
  {
   "cell_type": "code",
   "execution_count": 4,
   "metadata": {},
   "outputs": [],
   "source": [
    "for x in df['Trial_ID'].unique():\n",
    "    temp = df.loc[df['Trial_ID'] == x]\n",
    "    \n",
    "    lap_number_previous = 1\n",
    "    trial_identifier = 1\n",
    "    \n",
    "    for index, row in temp.iterrows():\n",
    "        if row['Lap_Number'] >= lap_number_previous:\n",
    "            df.at[index, 'Trial_Number'] = trial_identifier\n",
    "            lap_number_previous += 1\n",
    "        elif row['Lap_Number'] < lap_number_previous:\n",
    "            trial_identifier += 1\n",
    "            df.at[index, 'Trial_Number'] = trial_identifier\n",
    "            lap_number_previous = 1\n",
    "            \n",
    "df['Trial_ID_2'] = df['Trial_ID'] + '-' + df['Trial_Number'].astype(int).astype(str)"
   ]
  },
  {
   "cell_type": "code",
   "execution_count": 5,
   "metadata": {},
   "outputs": [],
   "source": [
    "def TimeConversion(x):\n",
    "    x = str(x)\n",
    "    if x != 'nan':\n",
    "        try:\n",
    "            y = datetime.strptime(x, '%M:%S.%f').time()\n",
    "        except ValueError:\n",
    "            try:\n",
    "                y = datetime.strptime(x, '%S.%f').time()\n",
    "            except ValueError:\n",
    "                try:\n",
    "                    y = datetime.strptime(x, '%S').time()\n",
    "                except ValueError:\n",
    "                    y = datetime.strptime('0', '%S').time()\n",
    "    if x == 'nan':\n",
    "        y = datetime.strptime('0', '%S').time()\n",
    "    z = timedelta(minutes=y.minute, seconds=y.second, microseconds=y.microsecond)\n",
    "    return z"
   ]
  },
  {
   "cell_type": "code",
   "execution_count": 6,
   "metadata": {},
   "outputs": [],
   "source": [
    "time_cols = [\n",
    "    'S1',\n",
    "    'S2',\n",
    "    'S3',\n",
    "    'Elapsed',\n",
    "    'Hour',\n",
    "    'S1_Large',\n",
    "    'S2_Large',\n",
    "    'S3_Large',\n",
    "    'Pit_Time',\n",
    "]\n",
    "\n",
    "daytime_cols = ['Hour']\n",
    "\n",
    "for x in time_cols:\n",
    "    df[x] = df[x].apply(TimeConversion)"
   ]
  },
  {
   "cell_type": "code",
   "execution_count": null,
   "metadata": {},
   "outputs": [],
   "source": [
    "for x in df['Trial_ID_2']:\n",
    "    temp = df.loc[df['Trial_ID_2'] == x]\n",
    "    laps = len(temp)\n",
    "    pit_time = timedelta(0)\n",
    "    for index, row in temp.iterrows():\n",
    "        if ~pd.isna(row['Pit_Time']):\n",
    "            pit_amount = row['Pit_Time']\n",
    "            pit_time += pit_amount\n",
    "            \n",
    "    df.loc[df['Trial_ID_2'] == x, 'Pit_Time'] = pit_time / laps"
   ]
  },
  {
   "cell_type": "code",
   "execution_count": null,
   "metadata": {},
   "outputs": [],
   "source": [
    "test = df[df['Trial_ID_2'] == 'FP2-2-10-1']\n",
    "test"
   ]
  },
  {
   "cell_type": "code",
   "execution_count": null,
   "metadata": {},
   "outputs": [],
   "source": [
    "df = df.drop(columns=[\n",
    "    'S1_Large',\n",
    "    'S2_Large',\n",
    "    'S3_Large',\n",
    "    'Trial_Number',\n",
    "    'Trial_ID',\n",
    "    'Number',\n",
    "    'Driver_Number',\n",
    "    'Crossing_Finish_Line_In_Pit'\n",
    "])"
   ]
  },
  {
   "cell_type": "code",
   "execution_count": null,
   "metadata": {},
   "outputs": [],
   "source": [
    "df"
   ]
  },
  {
   "cell_type": "code",
   "execution_count": null,
   "metadata": {},
   "outputs": [],
   "source": []
  }
 ],
 "metadata": {
  "kernelspec": {
   "display_name": "Python 3",
   "language": "python",
   "name": "python3"
  },
  "language_info": {
   "codemirror_mode": {
    "name": "ipython",
    "version": 3
   },
   "file_extension": ".py",
   "mimetype": "text/x-python",
   "name": "python",
   "nbconvert_exporter": "python",
   "pygments_lexer": "ipython3",
   "version": "3.8.3"
  }
 },
 "nbformat": 4,
 "nbformat_minor": 4
}
