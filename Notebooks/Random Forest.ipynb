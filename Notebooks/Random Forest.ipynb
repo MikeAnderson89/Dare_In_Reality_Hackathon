{
 "cells": [
  {
   "cell_type": "code",
   "execution_count": 1,
   "metadata": {},
   "outputs": [],
   "source": [
    "import sys\n",
    "import pandas as pd\n",
    "import numpy as np\n",
    "import scipy.stats as stats\n",
    "import matplotlib.pyplot as plt\n",
    "from sklearn.preprocessing import PowerTransformer, FunctionTransformer, QuantileTransformer\n",
    "\n",
    "sys.path.append('../Scripts')\n",
    "from Data_Processing import DataProcessing\n",
    "from pprint import pprint"
   ]
  },
  {
   "cell_type": "code",
   "execution_count": 2,
   "metadata": {},
   "outputs": [
    {
     "name": "stderr",
     "output_type": "stream",
     "text": [
      "../Scripts\\Data_Processing.py:130: SettingWithCopyWarning: \n",
      "A value is trying to be set on a copy of a slice from a DataFrame.\n",
      "Try using .loc[row_indexer,col_indexer] = value instead\n",
      "\n",
      "See the caveats in the documentation: https://pandas.pydata.org/pandas-docs/stable/user_guide/indexing.html#returning-a-view-versus-a-copy\n",
      "  train_weather_l1['AIR_TEMP'] = train_weather_l1['AIR_TEMP'] .str.replace(',','.')\n",
      "../Scripts\\Data_Processing.py:131: SettingWithCopyWarning: \n",
      "A value is trying to be set on a copy of a slice from a DataFrame.\n",
      "Try using .loc[row_indexer,col_indexer] = value instead\n",
      "\n",
      "See the caveats in the documentation: https://pandas.pydata.org/pandas-docs/stable/user_guide/indexing.html#returning-a-view-versus-a-copy\n",
      "  train_weather_l1['AIR_TEMP'] = pd.to_numeric(train_weather_l1['AIR_TEMP'])\n",
      "../Scripts\\Data_Processing.py:132: SettingWithCopyWarning: \n",
      "A value is trying to be set on a copy of a slice from a DataFrame.\n",
      "Try using .loc[row_indexer,col_indexer] = value instead\n",
      "\n",
      "See the caveats in the documentation: https://pandas.pydata.org/pandas-docs/stable/user_guide/indexing.html#returning-a-view-versus-a-copy\n",
      "  train_weather_l1['TRACK_TEMP'] = train_weather_l1['TRACK_TEMP'] .str.replace(',','.')\n",
      "../Scripts\\Data_Processing.py:133: SettingWithCopyWarning: \n",
      "A value is trying to be set on a copy of a slice from a DataFrame.\n",
      "Try using .loc[row_indexer,col_indexer] = value instead\n",
      "\n",
      "See the caveats in the documentation: https://pandas.pydata.org/pandas-docs/stable/user_guide/indexing.html#returning-a-view-versus-a-copy\n",
      "  train_weather_l1['TRACK_TEMP'] = pd.to_numeric(train_weather_l1['TRACK_TEMP'])\n",
      "../Scripts\\Data_Processing.py:134: SettingWithCopyWarning: \n",
      "A value is trying to be set on a copy of a slice from a DataFrame.\n",
      "Try using .loc[row_indexer,col_indexer] = value instead\n",
      "\n",
      "See the caveats in the documentation: https://pandas.pydata.org/pandas-docs/stable/user_guide/indexing.html#returning-a-view-versus-a-copy\n",
      "  train_weather_l1['HUMIDITY'] = train_weather_l1['HUMIDITY'] .str.replace(',','.')\n",
      "../Scripts\\Data_Processing.py:135: SettingWithCopyWarning: \n",
      "A value is trying to be set on a copy of a slice from a DataFrame.\n",
      "Try using .loc[row_indexer,col_indexer] = value instead\n",
      "\n",
      "See the caveats in the documentation: https://pandas.pydata.org/pandas-docs/stable/user_guide/indexing.html#returning-a-view-versus-a-copy\n",
      "  train_weather_l1['HUMIDITY'] = pd.to_numeric(train_weather_l1['HUMIDITY'])\n",
      "../Scripts\\Data_Processing.py:136: SettingWithCopyWarning: \n",
      "A value is trying to be set on a copy of a slice from a DataFrame.\n",
      "Try using .loc[row_indexer,col_indexer] = value instead\n",
      "\n",
      "See the caveats in the documentation: https://pandas.pydata.org/pandas-docs/stable/user_guide/indexing.html#returning-a-view-versus-a-copy\n",
      "  train_weather_l1['PRESSURE'] = train_weather_l1['PRESSURE'] .str.replace(',','.')\n",
      "../Scripts\\Data_Processing.py:137: SettingWithCopyWarning: \n",
      "A value is trying to be set on a copy of a slice from a DataFrame.\n",
      "Try using .loc[row_indexer,col_indexer] = value instead\n",
      "\n",
      "See the caveats in the documentation: https://pandas.pydata.org/pandas-docs/stable/user_guide/indexing.html#returning-a-view-versus-a-copy\n",
      "  train_weather_l1['PRESSURE'] = pd.to_numeric(train_weather_l1['PRESSURE'])\n",
      "../Scripts\\Data_Processing.py:138: SettingWithCopyWarning: \n",
      "A value is trying to be set on a copy of a slice from a DataFrame.\n",
      "Try using .loc[row_indexer,col_indexer] = value instead\n",
      "\n",
      "See the caveats in the documentation: https://pandas.pydata.org/pandas-docs/stable/user_guide/indexing.html#returning-a-view-versus-a-copy\n",
      "  train_weather_l1['WIND_SPEED'] = train_weather_l1['WIND_SPEED'] .str.replace(',','.')\n",
      "../Scripts\\Data_Processing.py:139: SettingWithCopyWarning: \n",
      "A value is trying to be set on a copy of a slice from a DataFrame.\n",
      "Try using .loc[row_indexer,col_indexer] = value instead\n",
      "\n",
      "See the caveats in the documentation: https://pandas.pydata.org/pandas-docs/stable/user_guide/indexing.html#returning-a-view-versus-a-copy\n",
      "  train_weather_l1['WIND_SPEED'] = pd.to_numeric(train_weather_l1['WIND_SPEED'])\n",
      "../Scripts\\Data_Processing.py:140: SettingWithCopyWarning: \n",
      "A value is trying to be set on a copy of a slice from a DataFrame.\n",
      "Try using .loc[row_indexer,col_indexer] = value instead\n",
      "\n",
      "See the caveats in the documentation: https://pandas.pydata.org/pandas-docs/stable/user_guide/indexing.html#returning-a-view-versus-a-copy\n",
      "  train_weather_l1['RAIN'] = train_weather_l1['RAIN'].str.replace(',', '.')\n",
      "../Scripts\\Data_Processing.py:141: SettingWithCopyWarning: \n",
      "A value is trying to be set on a copy of a slice from a DataFrame.\n",
      "Try using .loc[row_indexer,col_indexer] = value instead\n",
      "\n",
      "See the caveats in the documentation: https://pandas.pydata.org/pandas-docs/stable/user_guide/indexing.html#returning-a-view-versus-a-copy\n",
      "  train_weather_l1['RAIN'] = pd.to_numeric(train_weather_l1['RAIN'])\n",
      "../Scripts\\Data_Processing.py:146: SettingWithCopyWarning: \n",
      "A value is trying to be set on a copy of a slice from a DataFrame.\n",
      "Try using .loc[row_indexer,col_indexer] = value instead\n",
      "\n",
      "See the caveats in the documentation: https://pandas.pydata.org/pandas-docs/stable/user_guide/indexing.html#returning-a-view-versus-a-copy\n",
      "  train_weather_l2['AIR_TEMP'] = train_weather_l2['AIR_TEMP'] .str.replace(',','')\n",
      "../Scripts\\Data_Processing.py:147: SettingWithCopyWarning: \n",
      "A value is trying to be set on a copy of a slice from a DataFrame.\n",
      "Try using .loc[row_indexer,col_indexer] = value instead\n",
      "\n",
      "See the caveats in the documentation: https://pandas.pydata.org/pandas-docs/stable/user_guide/indexing.html#returning-a-view-versus-a-copy\n",
      "  train_weather_l2['AIR_TEMP'] = pd.to_numeric(train_weather_l2['AIR_TEMP'], errors='coerce')\n",
      "../Scripts\\Data_Processing.py:155: SettingWithCopyWarning: \n",
      "A value is trying to be set on a copy of a slice from a DataFrame.\n",
      "Try using .loc[row_indexer,col_indexer] = value instead\n",
      "\n",
      "See the caveats in the documentation: https://pandas.pydata.org/pandas-docs/stable/user_guide/indexing.html#returning-a-view-versus-a-copy\n",
      "  train_weather_l2['AIR_TEMP'] = np.select(conditions, choices, default=20)\n",
      "../Scripts\\Data_Processing.py:157: SettingWithCopyWarning: \n",
      "A value is trying to be set on a copy of a slice from a DataFrame.\n",
      "Try using .loc[row_indexer,col_indexer] = value instead\n",
      "\n",
      "See the caveats in the documentation: https://pandas.pydata.org/pandas-docs/stable/user_guide/indexing.html#returning-a-view-versus-a-copy\n",
      "  train_weather_l2['TRACK_TEMP'] = train_weather_l2['TRACK_TEMP'] .str.replace(',','.')\n",
      "../Scripts\\Data_Processing.py:158: SettingWithCopyWarning: \n",
      "A value is trying to be set on a copy of a slice from a DataFrame.\n",
      "Try using .loc[row_indexer,col_indexer] = value instead\n",
      "\n",
      "See the caveats in the documentation: https://pandas.pydata.org/pandas-docs/stable/user_guide/indexing.html#returning-a-view-versus-a-copy\n",
      "  train_weather_l2['TRACK_TEMP'] = pd.to_numeric(train_weather_l2['TRACK_TEMP'], errors='coerce')\n",
      "../Scripts\\Data_Processing.py:160: SettingWithCopyWarning: \n",
      "A value is trying to be set on a copy of a slice from a DataFrame.\n",
      "Try using .loc[row_indexer,col_indexer] = value instead\n",
      "\n",
      "See the caveats in the documentation: https://pandas.pydata.org/pandas-docs/stable/user_guide/indexing.html#returning-a-view-versus-a-copy\n",
      "  train_weather_l2['HUMIDITY'] = train_weather_l2['HUMIDITY'] .str.replace(',','.')\n",
      "../Scripts\\Data_Processing.py:161: SettingWithCopyWarning: \n",
      "A value is trying to be set on a copy of a slice from a DataFrame.\n",
      "Try using .loc[row_indexer,col_indexer] = value instead\n",
      "\n",
      "See the caveats in the documentation: https://pandas.pydata.org/pandas-docs/stable/user_guide/indexing.html#returning-a-view-versus-a-copy\n",
      "  train_weather_l2['HUMIDITY'] = pd.to_numeric(train_weather_l2['HUMIDITY'], errors='coerce')\n",
      "../Scripts\\Data_Processing.py:165: SettingWithCopyWarning: \n",
      "A value is trying to be set on a copy of a slice from a DataFrame.\n",
      "Try using .loc[row_indexer,col_indexer] = value instead\n",
      "\n",
      "See the caveats in the documentation: https://pandas.pydata.org/pandas-docs/stable/user_guide/indexing.html#returning-a-view-versus-a-copy\n",
      "  train_weather_l2['PRESSURE'] = train_weather_l2['PRESSURE'] .str.replace(',','')\n",
      "../Scripts\\Data_Processing.py:166: SettingWithCopyWarning: \n",
      "A value is trying to be set on a copy of a slice from a DataFrame.\n",
      "Try using .loc[row_indexer,col_indexer] = value instead\n",
      "\n",
      "See the caveats in the documentation: https://pandas.pydata.org/pandas-docs/stable/user_guide/indexing.html#returning-a-view-versus-a-copy\n",
      "  train_weather_l2['PRESSURE'] = pd.to_numeric(train_weather_l2['PRESSURE'], errors='coerce')\n",
      "../Scripts\\Data_Processing.py:175: SettingWithCopyWarning: \n",
      "A value is trying to be set on a copy of a slice from a DataFrame.\n",
      "Try using .loc[row_indexer,col_indexer] = value instead\n",
      "\n",
      "See the caveats in the documentation: https://pandas.pydata.org/pandas-docs/stable/user_guide/indexing.html#returning-a-view-versus-a-copy\n",
      "  train_weather_l2['PRESSURE'] = np.select(conditions, choices, default=1000)\n",
      "../Scripts\\Data_Processing.py:178: SettingWithCopyWarning: \n",
      "A value is trying to be set on a copy of a slice from a DataFrame.\n",
      "Try using .loc[row_indexer,col_indexer] = value instead\n",
      "\n",
      "See the caveats in the documentation: https://pandas.pydata.org/pandas-docs/stable/user_guide/indexing.html#returning-a-view-versus-a-copy\n",
      "  train_weather_l2['WIND_SPEED'] = train_weather_l2['WIND_SPEED'] .str.replace(',','')\n",
      "../Scripts\\Data_Processing.py:179: SettingWithCopyWarning: \n",
      "A value is trying to be set on a copy of a slice from a DataFrame.\n",
      "Try using .loc[row_indexer,col_indexer] = value instead\n",
      "\n",
      "See the caveats in the documentation: https://pandas.pydata.org/pandas-docs/stable/user_guide/indexing.html#returning-a-view-versus-a-copy\n",
      "  train_weather_l2['WIND_SPEED'] = pd.to_numeric(train_weather_l2['WIND_SPEED'], errors='coerce')\n",
      "../Scripts\\Data_Processing.py:193: SettingWithCopyWarning: \n",
      "A value is trying to be set on a copy of a slice from a DataFrame.\n",
      "Try using .loc[row_indexer,col_indexer] = value instead\n",
      "\n",
      "See the caveats in the documentation: https://pandas.pydata.org/pandas-docs/stable/user_guide/indexing.html#returning-a-view-versus-a-copy\n",
      "  train_weather_l2['WIND_SPEED'] = np.select(conditions, choices, default=1)\n",
      "../Scripts\\Data_Processing.py:194: SettingWithCopyWarning: \n",
      "A value is trying to be set on a copy of a slice from a DataFrame.\n",
      "Try using .loc[row_indexer,col_indexer] = value instead\n",
      "\n",
      "See the caveats in the documentation: https://pandas.pydata.org/pandas-docs/stable/user_guide/indexing.html#returning-a-view-versus-a-copy\n",
      "  train_weather_l2['RAIN'] = train_weather_l2['RAIN'].str.replace(',', '.')\n",
      "../Scripts\\Data_Processing.py:195: SettingWithCopyWarning: \n",
      "A value is trying to be set on a copy of a slice from a DataFrame.\n",
      "Try using .loc[row_indexer,col_indexer] = value instead\n",
      "\n",
      "See the caveats in the documentation: https://pandas.pydata.org/pandas-docs/stable/user_guide/indexing.html#returning-a-view-versus-a-copy\n",
      "  train_weather_l2['RAIN'] = pd.to_numeric(train_weather_l2['RAIN'])\n"
     ]
    }
   ],
   "source": [
    "df = DataProcessing('../Data/train.csv')"
   ]
  },
  {
   "cell_type": "code",
   "execution_count": 3,
   "metadata": {},
   "outputs": [],
   "source": [
    "df = df.loc[df['Lap_Time'] != 0]\n",
    "\n",
    "y = df['Lap_Time']\n",
    "X = df.drop(columns=['Lap_Time'])\n",
    "\n",
    "obj_columns = list(X.select_dtypes(include=object).columns)\n",
    "obj_columns.append('Lap_Number')\n",
    "obj_columns.append('Lap_Improvement')\n",
    "\n",
    "num_columns = list(X.select_dtypes(include='number').columns)\n",
    "num_columns.remove('Lap_Number')\n",
    "num_columns.remove('Lap_Improvement')"
   ]
  },
  {
   "cell_type": "code",
   "execution_count": null,
   "metadata": {},
   "outputs": [],
   "source": []
  },
  {
   "cell_type": "markdown",
   "metadata": {},
   "source": [
    "# Scalers"
   ]
  },
  {
   "cell_type": "code",
   "execution_count": 4,
   "metadata": {},
   "outputs": [],
   "source": [
    "from sklearn.compose import ColumnTransformer\n",
    "from sklearn.preprocessing import StandardScaler, OneHotEncoder\n",
    "import joblib"
   ]
  },
  {
   "cell_type": "code",
   "execution_count": 5,
   "metadata": {},
   "outputs": [
    {
     "data": {
      "text/html": [
       "<div>\n",
       "<style scoped>\n",
       "    .dataframe tbody tr th:only-of-type {\n",
       "        vertical-align: middle;\n",
       "    }\n",
       "\n",
       "    .dataframe tbody tr th {\n",
       "        vertical-align: top;\n",
       "    }\n",
       "\n",
       "    .dataframe thead th {\n",
       "        text-align: right;\n",
       "    }\n",
       "</style>\n",
       "<table border=\"1\" class=\"dataframe\">\n",
       "  <thead>\n",
       "    <tr style=\"text-align: right;\">\n",
       "      <th></th>\n",
       "      <th>Lap_Number</th>\n",
       "      <th>Lap_Improvement</th>\n",
       "      <th>S1</th>\n",
       "      <th>S1_Improvement</th>\n",
       "      <th>S2</th>\n",
       "      <th>S2_Improvement</th>\n",
       "      <th>S3</th>\n",
       "      <th>S3_Improvement</th>\n",
       "      <th>Kph</th>\n",
       "      <th>Elapsed</th>\n",
       "      <th>...</th>\n",
       "      <th>Power</th>\n",
       "      <th>Location</th>\n",
       "      <th>Event</th>\n",
       "      <th>Air_Temp</th>\n",
       "      <th>Track_Temp</th>\n",
       "      <th>Humidity</th>\n",
       "      <th>Pressure</th>\n",
       "      <th>Wind_Speed</th>\n",
       "      <th>Wind_Direction</th>\n",
       "      <th>Rain</th>\n",
       "    </tr>\n",
       "  </thead>\n",
       "  <tbody>\n",
       "    <tr>\n",
       "      <th>0</th>\n",
       "      <td>1</td>\n",
       "      <td>0</td>\n",
       "      <td>343.300</td>\n",
       "      <td>0</td>\n",
       "      <td>35.427</td>\n",
       "      <td>0</td>\n",
       "      <td>43.313</td>\n",
       "      <td>0</td>\n",
       "      <td>28.8</td>\n",
       "      <td>422.0</td>\n",
       "      <td>...</td>\n",
       "      <td>250.0</td>\n",
       "      <td>Location 2</td>\n",
       "      <td>Free Practice 2</td>\n",
       "      <td>15.0556</td>\n",
       "      <td>18.6</td>\n",
       "      <td>60.00</td>\n",
       "      <td>1018.25</td>\n",
       "      <td>3.18280</td>\n",
       "      <td>175.0</td>\n",
       "      <td>-1.0</td>\n",
       "    </tr>\n",
       "    <tr>\n",
       "      <th>1</th>\n",
       "      <td>2</td>\n",
       "      <td>2</td>\n",
       "      <td>25.674</td>\n",
       "      <td>2</td>\n",
       "      <td>33.399</td>\n",
       "      <td>2</td>\n",
       "      <td>41.922</td>\n",
       "      <td>2</td>\n",
       "      <td>120.5</td>\n",
       "      <td>523.0</td>\n",
       "      <td>...</td>\n",
       "      <td>250.0</td>\n",
       "      <td>Location 2</td>\n",
       "      <td>Free Practice 2</td>\n",
       "      <td>15.0556</td>\n",
       "      <td>18.7</td>\n",
       "      <td>60.00</td>\n",
       "      <td>1018.25</td>\n",
       "      <td>4.24374</td>\n",
       "      <td>161.0</td>\n",
       "      <td>-1.0</td>\n",
       "    </tr>\n",
       "    <tr>\n",
       "      <th>2</th>\n",
       "      <td>3</td>\n",
       "      <td>0</td>\n",
       "      <td>28.129</td>\n",
       "      <td>0</td>\n",
       "      <td>34.091</td>\n",
       "      <td>0</td>\n",
       "      <td>57.248</td>\n",
       "      <td>0</td>\n",
       "      <td>101.9</td>\n",
       "      <td>642.5</td>\n",
       "      <td>...</td>\n",
       "      <td>250.0</td>\n",
       "      <td>Location 2</td>\n",
       "      <td>Free Practice 2</td>\n",
       "      <td>15.0556</td>\n",
       "      <td>18.7</td>\n",
       "      <td>60.00</td>\n",
       "      <td>1018.22</td>\n",
       "      <td>3.18280</td>\n",
       "      <td>148.0</td>\n",
       "      <td>-1.0</td>\n",
       "    </tr>\n",
       "    <tr>\n",
       "      <th>3</th>\n",
       "      <td>1</td>\n",
       "      <td>0</td>\n",
       "      <td>65.000</td>\n",
       "      <td>0</td>\n",
       "      <td>38.416</td>\n",
       "      <td>0</td>\n",
       "      <td>56.833</td>\n",
       "      <td>0</td>\n",
       "      <td>75.9</td>\n",
       "      <td>160.2</td>\n",
       "      <td>...</td>\n",
       "      <td>250.0</td>\n",
       "      <td>Location 2</td>\n",
       "      <td>Free Practice 2</td>\n",
       "      <td>15.0556</td>\n",
       "      <td>18.5</td>\n",
       "      <td>60.00</td>\n",
       "      <td>1018.12</td>\n",
       "      <td>2.12187</td>\n",
       "      <td>157.0</td>\n",
       "      <td>-1.0</td>\n",
       "    </tr>\n",
       "    <tr>\n",
       "      <th>4</th>\n",
       "      <td>2</td>\n",
       "      <td>0</td>\n",
       "      <td>28.013</td>\n",
       "      <td>0</td>\n",
       "      <td>36.743</td>\n",
       "      <td>0</td>\n",
       "      <td>44.716</td>\n",
       "      <td>0</td>\n",
       "      <td>111.2</td>\n",
       "      <td>269.7</td>\n",
       "      <td>...</td>\n",
       "      <td>250.0</td>\n",
       "      <td>Location 2</td>\n",
       "      <td>Free Practice 2</td>\n",
       "      <td>15.1111</td>\n",
       "      <td>18.5</td>\n",
       "      <td>60.00</td>\n",
       "      <td>1018.15</td>\n",
       "      <td>3.18280</td>\n",
       "      <td>149.0</td>\n",
       "      <td>-1.0</td>\n",
       "    </tr>\n",
       "    <tr>\n",
       "      <th>...</th>\n",
       "      <td>...</td>\n",
       "      <td>...</td>\n",
       "      <td>...</td>\n",
       "      <td>...</td>\n",
       "      <td>...</td>\n",
       "      <td>...</td>\n",
       "      <td>...</td>\n",
       "      <td>...</td>\n",
       "      <td>...</td>\n",
       "      <td>...</td>\n",
       "      <td>...</td>\n",
       "      <td>...</td>\n",
       "      <td>...</td>\n",
       "      <td>...</td>\n",
       "      <td>...</td>\n",
       "      <td>...</td>\n",
       "      <td>...</td>\n",
       "      <td>...</td>\n",
       "      <td>...</td>\n",
       "      <td>...</td>\n",
       "      <td>...</td>\n",
       "    </tr>\n",
       "    <tr>\n",
       "      <th>10271</th>\n",
       "      <td>17</td>\n",
       "      <td>0</td>\n",
       "      <td>22.936</td>\n",
       "      <td>0</td>\n",
       "      <td>21.231</td>\n",
       "      <td>0</td>\n",
       "      <td>23.701</td>\n",
       "      <td>0</td>\n",
       "      <td>124.9</td>\n",
       "      <td>1434.7</td>\n",
       "      <td>...</td>\n",
       "      <td>250.0</td>\n",
       "      <td>Location 8</td>\n",
       "      <td>Free Practice 1</td>\n",
       "      <td>29.7300</td>\n",
       "      <td>36.0</td>\n",
       "      <td>38.47</td>\n",
       "      <td>1014.09</td>\n",
       "      <td>4.50000</td>\n",
       "      <td>171.0</td>\n",
       "      <td>0.0</td>\n",
       "    </tr>\n",
       "    <tr>\n",
       "      <th>10272</th>\n",
       "      <td>18</td>\n",
       "      <td>0</td>\n",
       "      <td>23.610</td>\n",
       "      <td>0</td>\n",
       "      <td>22.432</td>\n",
       "      <td>0</td>\n",
       "      <td>30.281</td>\n",
       "      <td>0</td>\n",
       "      <td>111.1</td>\n",
       "      <td>1511.0</td>\n",
       "      <td>...</td>\n",
       "      <td>235.0</td>\n",
       "      <td>Location 8</td>\n",
       "      <td>Free Practice 1</td>\n",
       "      <td>29.8600</td>\n",
       "      <td>36.1</td>\n",
       "      <td>38.34</td>\n",
       "      <td>1014.13</td>\n",
       "      <td>1.00000</td>\n",
       "      <td>202.0</td>\n",
       "      <td>0.0</td>\n",
       "    </tr>\n",
       "    <tr>\n",
       "      <th>10273</th>\n",
       "      <td>19</td>\n",
       "      <td>0</td>\n",
       "      <td>137.100</td>\n",
       "      <td>0</td>\n",
       "      <td>22.681</td>\n",
       "      <td>0</td>\n",
       "      <td>24.308</td>\n",
       "      <td>0</td>\n",
       "      <td>46.1</td>\n",
       "      <td>1695.1</td>\n",
       "      <td>...</td>\n",
       "      <td>250.0</td>\n",
       "      <td>Location 8</td>\n",
       "      <td>Free Practice 1</td>\n",
       "      <td>30.0500</td>\n",
       "      <td>36.2</td>\n",
       "      <td>38.30</td>\n",
       "      <td>1014.19</td>\n",
       "      <td>1.39100</td>\n",
       "      <td>203.0</td>\n",
       "      <td>0.0</td>\n",
       "    </tr>\n",
       "    <tr>\n",
       "      <th>10274</th>\n",
       "      <td>20</td>\n",
       "      <td>2</td>\n",
       "      <td>22.539</td>\n",
       "      <td>2</td>\n",
       "      <td>21.057</td>\n",
       "      <td>2</td>\n",
       "      <td>23.548</td>\n",
       "      <td>2</td>\n",
       "      <td>126.3</td>\n",
       "      <td>1762.3</td>\n",
       "      <td>...</td>\n",
       "      <td>250.0</td>\n",
       "      <td>Location 8</td>\n",
       "      <td>Free Practice 1</td>\n",
       "      <td>29.8300</td>\n",
       "      <td>36.2</td>\n",
       "      <td>38.59</td>\n",
       "      <td>1014.16</td>\n",
       "      <td>2.54000</td>\n",
       "      <td>273.0</td>\n",
       "      <td>0.0</td>\n",
       "    </tr>\n",
       "    <tr>\n",
       "      <th>10275</th>\n",
       "      <td>21</td>\n",
       "      <td>0</td>\n",
       "      <td>23.193</td>\n",
       "      <td>0</td>\n",
       "      <td>22.026</td>\n",
       "      <td>0</td>\n",
       "      <td>24.056</td>\n",
       "      <td>0</td>\n",
       "      <td>122.4</td>\n",
       "      <td>1831.5</td>\n",
       "      <td>...</td>\n",
       "      <td>250.0</td>\n",
       "      <td>Location 8</td>\n",
       "      <td>Free Practice 1</td>\n",
       "      <td>29.7400</td>\n",
       "      <td>36.1</td>\n",
       "      <td>38.52</td>\n",
       "      <td>1014.07</td>\n",
       "      <td>4.44000</td>\n",
       "      <td>193.0</td>\n",
       "      <td>0.0</td>\n",
       "    </tr>\n",
       "  </tbody>\n",
       "</table>\n",
       "<p>10132 rows × 23 columns</p>\n",
       "</div>"
      ],
      "text/plain": [
       "       Lap_Number  Lap_Improvement       S1  S1_Improvement      S2  \\\n",
       "0               1                0  343.300               0  35.427   \n",
       "1               2                2   25.674               2  33.399   \n",
       "2               3                0   28.129               0  34.091   \n",
       "3               1                0   65.000               0  38.416   \n",
       "4               2                0   28.013               0  36.743   \n",
       "...           ...              ...      ...             ...     ...   \n",
       "10271          17                0   22.936               0  21.231   \n",
       "10272          18                0   23.610               0  22.432   \n",
       "10273          19                0  137.100               0  22.681   \n",
       "10274          20                2   22.539               2  21.057   \n",
       "10275          21                0   23.193               0  22.026   \n",
       "\n",
       "       S2_Improvement      S3  S3_Improvement    Kph  Elapsed  ...  Power  \\\n",
       "0                   0  43.313               0   28.8    422.0  ...  250.0   \n",
       "1                   2  41.922               2  120.5    523.0  ...  250.0   \n",
       "2                   0  57.248               0  101.9    642.5  ...  250.0   \n",
       "3                   0  56.833               0   75.9    160.2  ...  250.0   \n",
       "4                   0  44.716               0  111.2    269.7  ...  250.0   \n",
       "...               ...     ...             ...    ...      ...  ...    ...   \n",
       "10271               0  23.701               0  124.9   1434.7  ...  250.0   \n",
       "10272               0  30.281               0  111.1   1511.0  ...  235.0   \n",
       "10273               0  24.308               0   46.1   1695.1  ...  250.0   \n",
       "10274               2  23.548               2  126.3   1762.3  ...  250.0   \n",
       "10275               0  24.056               0  122.4   1831.5  ...  250.0   \n",
       "\n",
       "         Location            Event  Air_Temp Track_Temp Humidity  Pressure  \\\n",
       "0      Location 2  Free Practice 2   15.0556       18.6    60.00   1018.25   \n",
       "1      Location 2  Free Practice 2   15.0556       18.7    60.00   1018.25   \n",
       "2      Location 2  Free Practice 2   15.0556       18.7    60.00   1018.22   \n",
       "3      Location 2  Free Practice 2   15.0556       18.5    60.00   1018.12   \n",
       "4      Location 2  Free Practice 2   15.1111       18.5    60.00   1018.15   \n",
       "...           ...              ...       ...        ...      ...       ...   \n",
       "10271  Location 8  Free Practice 1   29.7300       36.0    38.47   1014.09   \n",
       "10272  Location 8  Free Practice 1   29.8600       36.1    38.34   1014.13   \n",
       "10273  Location 8  Free Practice 1   30.0500       36.2    38.30   1014.19   \n",
       "10274  Location 8  Free Practice 1   29.8300       36.2    38.59   1014.16   \n",
       "10275  Location 8  Free Practice 1   29.7400       36.1    38.52   1014.07   \n",
       "\n",
       "       Wind_Speed  Wind_Direction  Rain  \n",
       "0         3.18280           175.0  -1.0  \n",
       "1         4.24374           161.0  -1.0  \n",
       "2         3.18280           148.0  -1.0  \n",
       "3         2.12187           157.0  -1.0  \n",
       "4         3.18280           149.0  -1.0  \n",
       "...           ...             ...   ...  \n",
       "10271     4.50000           171.0   0.0  \n",
       "10272     1.00000           202.0   0.0  \n",
       "10273     1.39100           203.0   0.0  \n",
       "10274     2.54000           273.0   0.0  \n",
       "10275     4.44000           193.0   0.0  \n",
       "\n",
       "[10132 rows x 23 columns]"
      ]
     },
     "execution_count": 5,
     "metadata": {},
     "output_type": "execute_result"
    }
   ],
   "source": [
    "#pt = PowerTransformer(method='yeo-johnson')\n",
    "#X[num_columns] = pt.fit_transform(X[num_columns])\n",
    "X"
   ]
  },
  {
   "cell_type": "code",
   "execution_count": 6,
   "metadata": {},
   "outputs": [],
   "source": [
    "column_transformer = ColumnTransformer(\n",
    "[('num', StandardScaler(), num_columns),\n",
    "('obj', OneHotEncoder(), obj_columns)],\n",
    "remainder='passthrough')\n",
    "\n",
    "trans_X = column_transformer.fit_transform(X)"
   ]
  },
  {
   "cell_type": "code",
   "execution_count": 7,
   "metadata": {},
   "outputs": [
    {
     "data": {
      "text/plain": [
       "['../Models/Column_Transformer.pkl']"
      ]
     },
     "execution_count": 7,
     "metadata": {},
     "output_type": "execute_result"
    }
   ],
   "source": [
    "joblib.dump(column_transformer, '../Models/Column_Transformer.pkl')\n",
    "#joblib.dump(pt, '../Models/Power_Transformer.pkl')"
   ]
  },
  {
   "cell_type": "code",
   "execution_count": 8,
   "metadata": {},
   "outputs": [],
   "source": [
    "#trans_X = trans_X.toarray()\n",
    "y = np.asarray(y)"
   ]
  },
  {
   "cell_type": "code",
   "execution_count": 9,
   "metadata": {},
   "outputs": [],
   "source": [
    "test_x = trans_X[:1000,]\n",
    "test_y = y[:1000,]\n",
    "\n",
    "trans_X = trans_X[1000:,]\n",
    "y = y[1000:,]"
   ]
  },
  {
   "cell_type": "code",
   "execution_count": 10,
   "metadata": {},
   "outputs": [
    {
     "data": {
      "text/plain": [
       "(1000,)"
      ]
     },
     "execution_count": 10,
     "metadata": {},
     "output_type": "execute_result"
    }
   ],
   "source": [
    "test_y.shape"
   ]
  },
  {
   "cell_type": "markdown",
   "metadata": {},
   "source": [
    "# Train Test Split"
   ]
  },
  {
   "cell_type": "code",
   "execution_count": 11,
   "metadata": {},
   "outputs": [],
   "source": [
    "from sklearn.model_selection import train_test_split"
   ]
  },
  {
   "cell_type": "code",
   "execution_count": 12,
   "metadata": {},
   "outputs": [],
   "source": [
    "X_train, X_test, y_train, y_test = train_test_split(trans_X, y, random_state=11, test_size=0.2)"
   ]
  },
  {
   "cell_type": "markdown",
   "metadata": {},
   "source": [
    "# Grid Search"
   ]
  },
  {
   "cell_type": "code",
   "execution_count": 13,
   "metadata": {},
   "outputs": [],
   "source": [
    "from sklearn.ensemble import RandomForestRegressor\n",
    "from sklearn.model_selection import RandomizedSearchCV\n",
    "from keras import backend as K"
   ]
  },
  {
   "cell_type": "code",
   "execution_count": 14,
   "metadata": {},
   "outputs": [],
   "source": [
    "def root_mean_squared_log_error(y_true, y_pred):\n",
    "        return K.sqrt(K.mean(K.square(K.log(1+y_pred) - K.log(1+y_true))))"
   ]
  },
  {
   "cell_type": "code",
   "execution_count": 15,
   "metadata": {},
   "outputs": [],
   "source": [
    "rf = RandomForestRegressor(random_state=42)"
   ]
  },
  {
   "cell_type": "code",
   "execution_count": 16,
   "metadata": {},
   "outputs": [
    {
     "name": "stdout",
     "output_type": "stream",
     "text": [
      "{'n_estimators': [200, 400, 600, 800, 1000, 1200, 1400, 1600, 1800, 2000], 'max_features': ['auto', 'sqrt'], 'max_depth': [10, 20, 30, 40, 50, 60, 70, 80, 90, 100, 110, None], 'min_samples_split': [2, 5, 10], 'min_samples_leaf': [1, 2, 4], 'bootstrap': [True, False]}\n"
     ]
    }
   ],
   "source": [
    "# Number of trees in random forest\n",
    "n_estimators = [int(x) for x in np.linspace(start = 200, stop = 2000, num = 10)]\n",
    "# Number of features to consider at every split\n",
    "max_features = ['auto', 'sqrt']\n",
    "# Maximum number of levels in tree\n",
    "max_depth = [int(x) for x in np.linspace(10, 110, num = 11)]\n",
    "max_depth.append(None)\n",
    "# Minimum number of samples required to split a node\n",
    "min_samples_split = [2, 5, 10]\n",
    "# Minimum number of samples required at each leaf node\n",
    "min_samples_leaf = [1, 2, 4]\n",
    "# Method of selecting samples for training each tree\n",
    "bootstrap = [True, False]\n",
    "# Create the random grid\n",
    "random_grid = {'n_estimators': n_estimators,\n",
    "               'max_features': max_features,\n",
    "               'max_depth': max_depth,\n",
    "               'min_samples_split': min_samples_split,\n",
    "               'min_samples_leaf': min_samples_leaf,\n",
    "               'bootstrap': bootstrap}\n",
    "\n",
    "print(random_grid)"
   ]
  },
  {
   "cell_type": "code",
   "execution_count": 17,
   "metadata": {},
   "outputs": [
    {
     "name": "stdout",
     "output_type": "stream",
     "text": [
      "Fitting 3 folds for each of 100 candidates, totalling 300 fits\n"
     ]
    },
    {
     "data": {
      "text/plain": [
       "RandomizedSearchCV(cv=3, estimator=RandomForestRegressor(random_state=42),\n",
       "                   n_iter=100, n_jobs=-1,\n",
       "                   param_distributions={'bootstrap': [True, False],\n",
       "                                        'max_depth': [10, 20, 30, 40, 50, 60,\n",
       "                                                      70, 80, 90, 100, 110,\n",
       "                                                      None],\n",
       "                                        'max_features': ['auto', 'sqrt'],\n",
       "                                        'min_samples_leaf': [1, 2, 4],\n",
       "                                        'min_samples_split': [2, 5, 10],\n",
       "                                        'n_estimators': [200, 400, 600, 800,\n",
       "                                                         1000, 1200, 1400, 1600,\n",
       "                                                         1800, 2000]},\n",
       "                   random_state=42, verbose=2)"
      ]
     },
     "execution_count": 17,
     "metadata": {},
     "output_type": "execute_result"
    }
   ],
   "source": [
    "rf_random = RandomizedSearchCV(\n",
    "    estimator = rf, \n",
    "    param_distributions = random_grid, \n",
    "    n_iter = 100, \n",
    "    cv = 3, \n",
    "    verbose=2, \n",
    "    random_state=42, \n",
    "    n_jobs = -1)\n",
    "# Fit the random search model\n",
    "rf_random.fit(X_train, y_train)"
   ]
  },
  {
   "cell_type": "code",
   "execution_count": 18,
   "metadata": {},
   "outputs": [
    {
     "data": {
      "text/plain": [
       "{'n_estimators': 1600,\n",
       " 'min_samples_split': 2,\n",
       " 'min_samples_leaf': 4,\n",
       " 'max_features': 'sqrt',\n",
       " 'max_depth': 10,\n",
       " 'bootstrap': True}"
      ]
     },
     "execution_count": 18,
     "metadata": {},
     "output_type": "execute_result"
    }
   ],
   "source": [
    "rf_random.best_params_"
   ]
  },
  {
   "cell_type": "markdown",
   "metadata": {},
   "source": [
    "# RF Model"
   ]
  },
  {
   "cell_type": "code",
   "execution_count": 19,
   "metadata": {},
   "outputs": [],
   "source": [
    "from sklearn.ensemble import RandomForestRegressor\n",
    "\n",
    "rf = RandomForestRegressor(\n",
    "    n_estimators=1600,\n",
    "    min_samples_split=2,\n",
    "    min_samples_leaf=4,\n",
    "    max_features='sqrt',\n",
    "    max_depth=10,\n",
    "    bootstrap=True)"
   ]
  },
  {
   "cell_type": "code",
   "execution_count": 20,
   "metadata": {},
   "outputs": [
    {
     "data": {
      "text/plain": [
       "RandomForestRegressor(max_depth=10, max_features='sqrt', min_samples_leaf=4,\n",
       "                      n_estimators=1600)"
      ]
     },
     "execution_count": 20,
     "metadata": {},
     "output_type": "execute_result"
    }
   ],
   "source": [
    "rf.fit(X_train, y_train)"
   ]
  },
  {
   "cell_type": "code",
   "execution_count": 23,
   "metadata": {},
   "outputs": [
    {
     "data": {
      "text/plain": [
       "<tf.Tensor: shape=(), dtype=float64, numpy=0.24226095456323904>"
      ]
     },
     "execution_count": 23,
     "metadata": {},
     "output_type": "execute_result"
    }
   ],
   "source": [
    "y_predicted = rf.predict(X_test)\n",
    "\n",
    "root_mean_squared_log_error(y_test.astype(float), y_predicted)"
   ]
  },
  {
   "cell_type": "code",
   "execution_count": 24,
   "metadata": {},
   "outputs": [
    {
     "data": {
      "text/plain": [
       "['../Models/RF_Model.h5']"
      ]
     },
     "execution_count": 24,
     "metadata": {},
     "output_type": "execute_result"
    }
   ],
   "source": [
    "joblib.dump(rf, '../Models/RF_Model.h5')"
   ]
  },
  {
   "cell_type": "code",
   "execution_count": 26,
   "metadata": {},
   "outputs": [
    {
     "data": {
      "text/plain": [
       "<tf.Tensor: shape=(), dtype=float64, numpy=0.22440818929741435>"
      ]
     },
     "execution_count": 26,
     "metadata": {},
     "output_type": "execute_result"
    }
   ],
   "source": [
    "y_predicted_test = rf.predict(test_x)\n",
    "root_mean_squared_log_error(test_y.astype(float), y_predicted_test)"
   ]
  },
  {
   "cell_type": "code",
   "execution_count": 28,
   "metadata": {},
   "outputs": [],
   "source": [
    "columns = X.columns\n",
    "\n",
    "importances = pd.DataFrame()\n",
    "\n",
    "importances['Value'] = rf.feature_importances_"
   ]
  },
  {
   "cell_type": "code",
   "execution_count": 29,
   "metadata": {},
   "outputs": [
    {
     "data": {
      "text/html": [
       "<div>\n",
       "<style scoped>\n",
       "    .dataframe tbody tr th:only-of-type {\n",
       "        vertical-align: middle;\n",
       "    }\n",
       "\n",
       "    .dataframe tbody tr th {\n",
       "        vertical-align: top;\n",
       "    }\n",
       "\n",
       "    .dataframe thead th {\n",
       "        text-align: right;\n",
       "    }\n",
       "</style>\n",
       "<table border=\"1\" class=\"dataframe\">\n",
       "  <thead>\n",
       "    <tr style=\"text-align: right;\">\n",
       "      <th></th>\n",
       "      <th>Value</th>\n",
       "    </tr>\n",
       "  </thead>\n",
       "  <tbody>\n",
       "    <tr>\n",
       "      <th>109</th>\n",
       "      <td>0.000000e+00</td>\n",
       "    </tr>\n",
       "    <tr>\n",
       "      <th>108</th>\n",
       "      <td>0.000000e+00</td>\n",
       "    </tr>\n",
       "    <tr>\n",
       "      <th>106</th>\n",
       "      <td>8.554263e-07</td>\n",
       "    </tr>\n",
       "    <tr>\n",
       "      <th>107</th>\n",
       "      <td>1.059598e-06</td>\n",
       "    </tr>\n",
       "    <tr>\n",
       "      <th>105</th>\n",
       "      <td>3.446938e-05</td>\n",
       "    </tr>\n",
       "    <tr>\n",
       "      <th>...</th>\n",
       "      <td>...</td>\n",
       "    </tr>\n",
       "    <tr>\n",
       "      <th>11</th>\n",
       "      <td>6.549821e-02</td>\n",
       "    </tr>\n",
       "    <tr>\n",
       "      <th>10</th>\n",
       "      <td>7.224324e-02</td>\n",
       "    </tr>\n",
       "    <tr>\n",
       "      <th>12</th>\n",
       "      <td>7.291924e-02</td>\n",
       "    </tr>\n",
       "    <tr>\n",
       "      <th>2</th>\n",
       "      <td>7.398211e-02</td>\n",
       "    </tr>\n",
       "    <tr>\n",
       "      <th>71</th>\n",
       "      <td>1.247093e-01</td>\n",
       "    </tr>\n",
       "  </tbody>\n",
       "</table>\n",
       "<p>114 rows × 1 columns</p>\n",
       "</div>"
      ],
      "text/plain": [
       "            Value\n",
       "109  0.000000e+00\n",
       "108  0.000000e+00\n",
       "106  8.554263e-07\n",
       "107  1.059598e-06\n",
       "105  3.446938e-05\n",
       "..            ...\n",
       "11   6.549821e-02\n",
       "10   7.224324e-02\n",
       "12   7.291924e-02\n",
       "2    7.398211e-02\n",
       "71   1.247093e-01\n",
       "\n",
       "[114 rows x 1 columns]"
      ]
     },
     "execution_count": 29,
     "metadata": {},
     "output_type": "execute_result"
    }
   ],
   "source": [
    "importances.sort_values(by='Value')"
   ]
  },
  {
   "cell_type": "code",
   "execution_count": 30,
   "metadata": {},
   "outputs": [
    {
     "data": {
      "text/plain": [
       "<BarContainer object of 114 artists>"
      ]
     },
     "execution_count": 30,
     "metadata": {},
     "output_type": "execute_result"
    },
    {
     "data": {
      "image/png": "[encoded data removed]",
      "text/plain": [
       "<Figure size 432x288 with 1 Axes>"
      ]
     },
     "metadata": {
      "needs_background": "light"
     },
     "output_type": "display_data"
    }
   ],
   "source": [
    "plt.bar(importances.index, importances['Value'])"
   ]
  },
  {
   "cell_type": "code",
   "execution_count": 31,
   "metadata": {},
   "outputs": [
    {
     "data": {
      "text/plain": [
       "Int64Index([0, 2, 4, 6, 8, 9, 10, 12, 13, 14, 15, 16, 17, 18, 72, 73], dtype='int64')"
      ]
     },
     "execution_count": 31,
     "metadata": {},
     "output_type": "execute_result"
    }
   ],
   "source": [
    "good_features = importances[importances['Value'] > 0.01]\n",
    "indexes = good_features.index\n",
    "indexes"
   ]
  },
  {
   "cell_type": "code",
   "execution_count": 37,
   "metadata": {},
   "outputs": [],
   "source": [
    "a_new = []    # Start with an empty list\n",
    "for index in indexes:   # index in b are all elements in b, thus: b[0] = 2, b[1] = 5 and b[2] = 7\n",
    "    a_new.append(X_train[: index ])"
   ]
  },
  {
   "cell_type": "code",
   "execution_count": 40,
   "metadata": {},
   "outputs": [
    {
     "data": {
      "text/plain": [
       "<7190x16 sparse matrix of type '<class 'numpy.float64'>'\n",
       "\twith 102599 stored elements in Compressed Sparse Row format>"
      ]
     },
     "execution_count": 40,
     "metadata": {},
     "output_type": "execute_result"
    }
   ],
   "source": [
    "X_train[:,indexes]"
   ]
  },
  {
   "cell_type": "markdown",
   "metadata": {},
   "source": [
    "# New Features"
   ]
  },
  {
   "cell_type": "code",
   "execution_count": 41,
   "metadata": {},
   "outputs": [],
   "source": [
    "from sklearn.model_selection import train_test_split"
   ]
  },
  {
   "cell_type": "code",
   "execution_count": 42,
   "metadata": {},
   "outputs": [],
   "source": [
    "trans_X = trans_X[:,indexes]\n",
    "X_train, X_test, y_train, y_test = train_test_split(trans_X, y, random_state=11, test_size=0.3)"
   ]
  },
  {
   "cell_type": "code",
   "execution_count": 43,
   "metadata": {},
   "outputs": [],
   "source": [
    "from sklearn.ensemble import RandomForestRegressor\n",
    "\n",
    "rf = RandomForestRegressor(\n",
    "    n_estimators=1600,\n",
    "    min_samples_split=2,\n",
    "    min_samples_leaf=4,\n",
    "    max_features='sqrt',\n",
    "    max_depth=10,\n",
    "    bootstrap=True)"
   ]
  },
  {
   "cell_type": "code",
   "execution_count": 44,
   "metadata": {},
   "outputs": [
    {
     "data": {
      "text/plain": [
       "RandomForestRegressor(max_depth=10, max_features='sqrt', min_samples_leaf=4,\n",
       "                      n_estimators=1600)"
      ]
     },
     "execution_count": 44,
     "metadata": {},
     "output_type": "execute_result"
    }
   ],
   "source": [
    "rf.fit(X_train, y_train)"
   ]
  },
  {
   "cell_type": "code",
   "execution_count": 45,
   "metadata": {},
   "outputs": [
    {
     "data": {
      "text/plain": [
       "<tf.Tensor: shape=(), dtype=float64, numpy=0.5394893722632854>"
      ]
     },
     "execution_count": 45,
     "metadata": {},
     "output_type": "execute_result"
    }
   ],
   "source": [
    "y_predicted = rf.predict(X_test)\n",
    "\n",
    "root_mean_squared_log_error(y_test, y_predicted)"
   ]
  },
  {
   "cell_type": "code",
   "execution_count": 46,
   "metadata": {},
   "outputs": [
    {
     "data": {
      "text/plain": [
       "['../Models/RF_Model.h5']"
      ]
     },
     "execution_count": 46,
     "metadata": {},
     "output_type": "execute_result"
    }
   ],
   "source": [
    "joblib.dump(rf, '../Models/RF_Model.h5')"
   ]
  },
  {
   "cell_type": "code",
   "execution_count": 26,
   "metadata": {},
   "outputs": [
    {
     "data": {
      "text/plain": [
       "array([97.24986227, 96.26744189, 95.94928572, 94.90519231, 95.85878989,\n",
       "       95.9732295 , 95.36959824, 95.86196494, 96.34274419, 96.81119367,\n",
       "       96.22253565, 95.44938519, 95.8566236 , 96.62919413, 96.19753788,\n",
       "       97.21396355, 97.42779678, 96.7910056 , 94.67149213, 95.2448387 ,\n",
       "       95.29482361, 93.93506609, 95.39087244, 94.15691799, 95.34449165,\n",
       "       95.61272071, 96.28415799, 96.22304533, 96.62278242, 95.30618229,\n",
       "       95.5642833 , 95.82670936, 96.86286868, 95.78734201, 96.89079525,\n",
       "       95.52589287, 96.19706123, 95.25321385, 96.20736798, 95.23186445,\n",
       "       94.52542131, 97.02724703, 96.00060466, 96.38995245, 96.47210192,\n",
       "       96.55446005, 95.01578461, 95.68494627, 96.73563649, 96.84991684,\n",
       "       96.34179168, 96.15747442, 96.43966292, 95.81652516, 94.43068465,\n",
       "       96.0465389 , 96.67469635, 96.56193743, 98.26388322, 98.15330788,\n",
       "       98.32850836, 98.89352234, 95.76592234, 95.79794866, 95.83412127,\n",
       "       95.67413483, 93.97093524, 94.67900424, 94.83526395, 95.55459974,\n",
       "       95.19520829, 96.04320967, 96.10261011, 95.45594245, 96.55557952,\n",
       "       97.0498651 , 97.39173347, 97.60455865, 96.35136924, 95.57114397,\n",
       "       96.47128889, 96.6997411 , 96.11136338, 96.45168593, 94.99217983,\n",
       "       94.27906575, 95.79041849, 95.52952025, 96.24958596, 94.7034641 ,\n",
       "       95.9011811 , 96.12238099, 96.54306755, 95.80341111, 95.76097935,\n",
       "       95.002769  , 95.6635756 , 95.98107961, 95.55935865, 94.6940448 ,\n",
       "       95.96854811, 95.40714859, 98.41293515, 96.70470621, 99.07769186,\n",
       "       96.5689568 , 99.05517036, 97.34321586, 98.70476503, 95.25823258,\n",
       "       97.96341451, 98.10228558, 97.16244761, 97.10726637, 97.37431148,\n",
       "       97.54319604, 97.2611552 , 96.87820945, 96.45145045, 96.91603545,\n",
       "       95.79674008, 95.3926313 , 96.71587454, 96.2946633 , 97.10717777,\n",
       "       96.48403471, 98.58309822, 96.28752546, 97.01646824, 97.39627986,\n",
       "       97.15807379, 95.38814552, 96.34902377, 96.74763829, 96.82744824,\n",
       "       96.50370371, 96.30285129, 96.74563571, 95.48331361, 95.11701212,\n",
       "       96.16183867, 96.48341671, 95.07489818, 98.30771733, 96.01600721,\n",
       "       96.72122725, 96.05027313, 96.57015599, 96.26905864, 94.65423438,\n",
       "       97.42596886, 97.62281343, 97.78781326, 97.00509999, 96.98106251,\n",
       "       96.68935239, 96.46470582, 95.67902512, 96.41596104, 96.10067304,\n",
       "       97.77389769, 97.22740986, 96.58862013, 97.22277196, 96.24447234,\n",
       "       96.60333517, 97.16288191, 97.87681972, 96.17862019, 97.89526974,\n",
       "       98.00111645, 98.14767528, 98.04850448, 98.03620564, 98.15723606,\n",
       "       98.3430634 , 97.96445715, 96.61981803, 98.00815008, 98.1568867 ,\n",
       "       96.71591202, 98.40693443, 96.37981983, 98.40970966, 96.98682158,\n",
       "       97.47235231, 97.77732381, 94.49249824, 96.93914532, 96.81855948,\n",
       "       96.28901825, 95.80936246, 95.95465587, 95.89157623, 94.45755907,\n",
       "       95.14381324, 94.63140374, 96.12204422, 95.14746321, 97.35076635,\n",
       "       96.06817691, 95.52759971, 96.23121133, 94.30339393, 95.13138733,\n",
       "       97.33880409, 97.35633158, 97.62978031, 97.54560459, 96.73404593,\n",
       "       97.24125582, 96.60922724, 95.51921923, 97.2198606 , 95.98087396,\n",
       "       98.91566931, 95.95065609, 97.51696449, 95.99674598, 96.57249026,\n",
       "       97.45197563, 95.75917506, 96.40715585, 97.26868773, 97.51396137,\n",
       "       97.51774913, 97.003079  , 97.051827  , 97.1229061 , 96.63794554,\n",
       "       95.66774011, 96.96321327, 96.21426784, 98.87923948, 98.91656362,\n",
       "       97.47961091, 96.60675578, 97.34082184, 98.03446517, 97.80701453,\n",
       "       98.05764683, 97.58175027, 97.42086456, 97.16537299, 96.7662118 ,\n",
       "       96.29897489, 96.10781872, 96.21513393, 97.64965915, 96.39948979,\n",
       "       97.49182728, 96.21536637, 97.38913904, 96.97269334, 97.83896721,\n",
       "       96.55606369, 97.38116234, 96.75067793, 97.13724491, 96.90828435,\n",
       "       97.10959682, 97.14364862, 96.24274967, 95.55842047, 96.74727788,\n",
       "       95.97607798, 97.57410404, 96.08156806, 97.18169014, 97.0156573 ,\n",
       "       95.90264083, 96.17842873, 97.39160965, 98.8130045 , 95.27924829,\n",
       "       97.97781272, 97.80774476, 96.61892   , 96.75159319, 97.19150207,\n",
       "       96.09659116, 99.43168994, 97.04198518, 96.13216615, 96.67661318,\n",
       "       99.57585254, 97.07920111, 97.15132492, 96.62510372, 97.1171867 ,\n",
       "       97.91422083, 97.33125351, 97.16373552, 96.52005842, 96.42605914,\n",
       "       96.53885912, 95.92359647, 95.24549092, 96.30270952, 95.78428347,\n",
       "       98.32821538, 96.46368581, 96.93105583, 95.9137981 , 96.38749392,\n",
       "       97.27702753, 96.99794457, 95.21781662, 97.19803367, 97.70583773,\n",
       "       97.36456959, 97.06332789, 97.1448276 , 97.20070615, 96.57211938,\n",
       "       96.48298096, 96.69876576, 97.52941552, 97.48609369, 97.47614077,\n",
       "       96.95209885, 96.79348102, 97.37506025, 96.83080369, 96.75425529,\n",
       "       96.45962447, 97.92281058, 95.77767015, 95.99758002, 95.99378093,\n",
       "       95.88795947, 95.23068658, 95.47797871, 95.29992742, 95.72936363,\n",
       "       96.44923809, 96.08642874, 95.25831253, 95.71792218, 96.36660529,\n",
       "       96.37861016, 95.66829948, 99.31478773, 96.1583205 , 96.31073272,\n",
       "       97.90018979, 97.31158759, 98.09664856, 97.00888205, 97.26802694,\n",
       "       97.38803931, 96.90579579, 95.59976062, 97.11158454, 96.33684178,\n",
       "       98.79212068, 96.88370611, 97.21404324, 96.48185468, 96.52640237,\n",
       "       97.34494489, 97.40740024, 94.97252786, 98.73381538, 98.54423486,\n",
       "       98.29065838, 97.77361424, 97.60372577, 97.89817505, 97.16205245,\n",
       "       96.63537951, 97.12947837, 96.88921063, 98.14530289, 96.86160802,\n",
       "       97.5202414 , 96.55485153, 96.89847286, 99.17723997, 96.28518659,\n",
       "       96.38020237, 97.80505598, 97.29326889, 96.53167083, 95.23523174,\n",
       "       95.22516786, 94.9138948 , 94.54371866, 94.29793413, 94.90071019,\n",
       "       94.6401351 , 94.91234282, 95.00978345, 95.17659856, 94.66505259,\n",
       "       96.03914285, 95.89291576, 95.29540682, 97.35617905, 95.3378832 ])"
      ]
     },
     "execution_count": 26,
     "metadata": {},
     "output_type": "execute_result"
    }
   ],
   "source": []
  },
  {
   "cell_type": "markdown",
   "metadata": {},
   "source": [
    "# Output"
   ]
  },
  {
   "cell_type": "code",
   "execution_count": 34,
   "metadata": {},
   "outputs": [
    {
     "data": {
      "text/html": [
       "<div>\n",
       "<style scoped>\n",
       "    .dataframe tbody tr th:only-of-type {\n",
       "        vertical-align: middle;\n",
       "    }\n",
       "\n",
       "    .dataframe tbody tr th {\n",
       "        vertical-align: top;\n",
       "    }\n",
       "\n",
       "    .dataframe thead th {\n",
       "        text-align: right;\n",
       "    }\n",
       "</style>\n",
       "<table border=\"1\" class=\"dataframe\">\n",
       "  <thead>\n",
       "    <tr style=\"text-align: right;\">\n",
       "      <th></th>\n",
       "      <th>Predicted</th>\n",
       "      <th>Actual</th>\n",
       "    </tr>\n",
       "  </thead>\n",
       "  <tbody>\n",
       "    <tr>\n",
       "      <th>0</th>\n",
       "      <td>96.900992</td>\n",
       "      <td>74</td>\n",
       "    </tr>\n",
       "    <tr>\n",
       "      <th>1</th>\n",
       "      <td>98.632395</td>\n",
       "      <td>102</td>\n",
       "    </tr>\n",
       "    <tr>\n",
       "      <th>2</th>\n",
       "      <td>95.988538</td>\n",
       "      <td>117</td>\n",
       "    </tr>\n",
       "    <tr>\n",
       "      <th>3</th>\n",
       "      <td>97.108680</td>\n",
       "      <td>88</td>\n",
       "    </tr>\n",
       "    <tr>\n",
       "      <th>4</th>\n",
       "      <td>95.277257</td>\n",
       "      <td>118</td>\n",
       "    </tr>\n",
       "    <tr>\n",
       "      <th>...</th>\n",
       "      <td>...</td>\n",
       "      <td>...</td>\n",
       "    </tr>\n",
       "    <tr>\n",
       "      <th>1822</th>\n",
       "      <td>96.014250</td>\n",
       "      <td>74</td>\n",
       "    </tr>\n",
       "    <tr>\n",
       "      <th>1823</th>\n",
       "      <td>97.765003</td>\n",
       "      <td>95</td>\n",
       "    </tr>\n",
       "    <tr>\n",
       "      <th>1824</th>\n",
       "      <td>95.641228</td>\n",
       "      <td>73</td>\n",
       "    </tr>\n",
       "    <tr>\n",
       "      <th>1825</th>\n",
       "      <td>95.601931</td>\n",
       "      <td>98</td>\n",
       "    </tr>\n",
       "    <tr>\n",
       "      <th>1826</th>\n",
       "      <td>93.919488</td>\n",
       "      <td>88</td>\n",
       "    </tr>\n",
       "  </tbody>\n",
       "</table>\n",
       "<p>1827 rows × 2 columns</p>\n",
       "</div>"
      ],
      "text/plain": [
       "      Predicted  Actual\n",
       "0     96.900992      74\n",
       "1     98.632395     102\n",
       "2     95.988538     117\n",
       "3     97.108680      88\n",
       "4     95.277257     118\n",
       "...         ...     ...\n",
       "1822  96.014250      74\n",
       "1823  97.765003      95\n",
       "1824  95.641228      73\n",
       "1825  95.601931      98\n",
       "1826  93.919488      88\n",
       "\n",
       "[1827 rows x 2 columns]"
      ]
     },
     "execution_count": 34,
     "metadata": {},
     "output_type": "execute_result"
    }
   ],
   "source": [
    "results = pd.DataFrame()\n",
    "results['Predicted'] = y_predicted\n",
    "results['Actual'] = y_test\n",
    "results"
   ]
  },
  {
   "cell_type": "code",
   "execution_count": 41,
   "metadata": {},
   "outputs": [],
   "source": [
    "columns = column_transformer.get_feature_names_out()\n",
    "importances = rf.feature_importances_\n",
    "\n",
    "features = pd.DataFrame()\n",
    "features['Column'] = columns\n",
    "features['Importance'] = importances\n",
    "features.sort_values(by='Importance', ascending=False).to_csv('../Data/Feature_Importances.csv', index=False)"
   ]
  },
  {
   "cell_type": "code",
   "execution_count": null,
   "metadata": {},
   "outputs": [],
   "source": []
  }
 ],
 "metadata": {
  "kernelspec": {
   "display_name": "Python 3",
   "language": "python",
   "name": "python3"
  },
  "language_info": {
   "codemirror_mode": {
    "name": "ipython",
    "version": 3
   },
   "file_extension": ".py",
   "mimetype": "text/x-python",
   "name": "python",
   "nbconvert_exporter": "python",
   "pygments_lexer": "ipython3",
   "version": "3.8.3"
  }
 },
 "nbformat": 4,
 "nbformat_minor": 4
}
