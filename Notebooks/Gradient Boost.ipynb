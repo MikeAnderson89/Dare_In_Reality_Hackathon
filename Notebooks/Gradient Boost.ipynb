{
 "cells": [
  {
   "cell_type": "code",
   "execution_count": 1,
   "metadata": {},
   "outputs": [],
   "source": [
    "import sys\n",
    "import pandas as pd\n",
    "import numpy as np\n",
    "import scipy.stats as stats\n",
    "import matplotlib.pyplot as plt\n",
    "from sklearn.preprocessing import PowerTransformer, FunctionTransformer, QuantileTransformer\n",
    "\n",
    "sys.path.append('../Scripts')\n",
    "from Data_Processing import DataProcessing\n",
    "from pprint import pprint"
   ]
  },
  {
   "cell_type": "code",
   "execution_count": 2,
   "metadata": {},
   "outputs": [],
   "source": [
    "df = DataProcessing('../Data/train.csv')"
   ]
  },
  {
   "cell_type": "code",
   "execution_count": 4,
   "metadata": {},
   "outputs": [],
   "source": [
    "df = df.loc[df['Lap_Time'] != 0]\n",
    "\n",
    "y = df['Lap_Time']\n",
    "X = df.drop(columns=['Lap_Time'])\n",
    "\n",
    "obj_columns = list(X.select_dtypes(include=object).columns)\n",
    "obj_columns.append('Lap_Number')\n",
    "obj_columns.append('Lap_Improvement')\n",
    "\n",
    "num_columns = list(X.select_dtypes(include='number').columns)\n",
    "num_columns.remove('Lap_Number')\n",
    "num_columns.remove('Lap_Improvement')"
   ]
  },
  {
   "cell_type": "code",
   "execution_count": null,
   "metadata": {},
   "outputs": [],
   "source": []
  },
  {
   "cell_type": "markdown",
   "metadata": {},
   "source": [
    "# Scalers"
   ]
  },
  {
   "cell_type": "code",
   "execution_count": 5,
   "metadata": {},
   "outputs": [],
   "source": [
    "from sklearn.compose import ColumnTransformer\n",
    "from sklearn.preprocessing import StandardScaler, OneHotEncoder\n",
    "import joblib"
   ]
  },
  {
   "cell_type": "code",
   "execution_count": 6,
   "metadata": {},
   "outputs": [
    {
     "data": {
      "text/html": [
       "<div>\n",
       "<style scoped>\n",
       "    .dataframe tbody tr th:only-of-type {\n",
       "        vertical-align: middle;\n",
       "    }\n",
       "\n",
       "    .dataframe tbody tr th {\n",
       "        vertical-align: top;\n",
       "    }\n",
       "\n",
       "    .dataframe thead th {\n",
       "        text-align: right;\n",
       "    }\n",
       "</style>\n",
       "<table border=\"1\" class=\"dataframe\">\n",
       "  <thead>\n",
       "    <tr style=\"text-align: right;\">\n",
       "      <th></th>\n",
       "      <th>Lap_Number</th>\n",
       "      <th>S1</th>\n",
       "      <th>S1_Improvement</th>\n",
       "      <th>S2</th>\n",
       "      <th>S2_Improvement</th>\n",
       "      <th>S3</th>\n",
       "      <th>S3_Improvement</th>\n",
       "      <th>Kph</th>\n",
       "      <th>Elapsed</th>\n",
       "      <th>Driver_Name</th>\n",
       "      <th>Pit_Time</th>\n",
       "      <th>Team</th>\n",
       "      <th>Power</th>\n",
       "      <th>Event</th>\n",
       "      <th>Air_Temp</th>\n",
       "      <th>Track_Temp</th>\n",
       "      <th>Humidity</th>\n",
       "      <th>Pressure</th>\n",
       "      <th>Wind_Speed</th>\n",
       "      <th>Wind_Direction</th>\n",
       "      <th>Rain</th>\n",
       "    </tr>\n",
       "  </thead>\n",
       "  <tbody>\n",
       "    <tr>\n",
       "      <th>0</th>\n",
       "      <td>1</td>\n",
       "      <td>343.300</td>\n",
       "      <td>0</td>\n",
       "      <td>35.427</td>\n",
       "      <td>0</td>\n",
       "      <td>43.313</td>\n",
       "      <td>0</td>\n",
       "      <td>28.8</td>\n",
       "      <td>422.0</td>\n",
       "      <td>SB</td>\n",
       "      <td>104.900000</td>\n",
       "      <td>JR</td>\n",
       "      <td>250</td>\n",
       "      <td>Free Practice 2</td>\n",
       "      <td>15.0556</td>\n",
       "      <td>18.6</td>\n",
       "      <td>60.0</td>\n",
       "      <td>1018.25</td>\n",
       "      <td>3.18280</td>\n",
       "      <td>175.0</td>\n",
       "      <td>-1.0</td>\n",
       "    </tr>\n",
       "    <tr>\n",
       "      <th>1</th>\n",
       "      <td>2</td>\n",
       "      <td>25.674</td>\n",
       "      <td>2</td>\n",
       "      <td>33.399</td>\n",
       "      <td>2</td>\n",
       "      <td>41.922</td>\n",
       "      <td>2</td>\n",
       "      <td>120.5</td>\n",
       "      <td>523.0</td>\n",
       "      <td>SB</td>\n",
       "      <td>104.900000</td>\n",
       "      <td>JR</td>\n",
       "      <td>250</td>\n",
       "      <td>Free Practice 2</td>\n",
       "      <td>15.0556</td>\n",
       "      <td>18.7</td>\n",
       "      <td>60.0</td>\n",
       "      <td>1018.25</td>\n",
       "      <td>4.24374</td>\n",
       "      <td>161.0</td>\n",
       "      <td>-1.0</td>\n",
       "    </tr>\n",
       "    <tr>\n",
       "      <th>2</th>\n",
       "      <td>3</td>\n",
       "      <td>28.129</td>\n",
       "      <td>0</td>\n",
       "      <td>34.091</td>\n",
       "      <td>0</td>\n",
       "      <td>57.248</td>\n",
       "      <td>0</td>\n",
       "      <td>101.9</td>\n",
       "      <td>642.5</td>\n",
       "      <td>SB</td>\n",
       "      <td>104.900000</td>\n",
       "      <td>JR</td>\n",
       "      <td>250</td>\n",
       "      <td>Free Practice 2</td>\n",
       "      <td>15.0556</td>\n",
       "      <td>18.7</td>\n",
       "      <td>60.0</td>\n",
       "      <td>1018.22</td>\n",
       "      <td>3.18280</td>\n",
       "      <td>148.0</td>\n",
       "      <td>-1.0</td>\n",
       "    </tr>\n",
       "    <tr>\n",
       "      <th>3</th>\n",
       "      <td>1</td>\n",
       "      <td>65.000</td>\n",
       "      <td>0</td>\n",
       "      <td>38.416</td>\n",
       "      <td>0</td>\n",
       "      <td>56.833</td>\n",
       "      <td>0</td>\n",
       "      <td>75.9</td>\n",
       "      <td>160.2</td>\n",
       "      <td>LGRA</td>\n",
       "      <td>8.250000</td>\n",
       "      <td>AD</td>\n",
       "      <td>250</td>\n",
       "      <td>Free Practice 2</td>\n",
       "      <td>15.0556</td>\n",
       "      <td>18.5</td>\n",
       "      <td>60.0</td>\n",
       "      <td>1018.12</td>\n",
       "      <td>2.12187</td>\n",
       "      <td>157.0</td>\n",
       "      <td>-1.0</td>\n",
       "    </tr>\n",
       "    <tr>\n",
       "      <th>4</th>\n",
       "      <td>2</td>\n",
       "      <td>28.013</td>\n",
       "      <td>0</td>\n",
       "      <td>36.743</td>\n",
       "      <td>0</td>\n",
       "      <td>44.716</td>\n",
       "      <td>0</td>\n",
       "      <td>111.2</td>\n",
       "      <td>269.7</td>\n",
       "      <td>LGRA</td>\n",
       "      <td>8.250000</td>\n",
       "      <td>AD</td>\n",
       "      <td>250</td>\n",
       "      <td>Free Practice 2</td>\n",
       "      <td>15.1111</td>\n",
       "      <td>18.5</td>\n",
       "      <td>60.0</td>\n",
       "      <td>1018.15</td>\n",
       "      <td>3.18280</td>\n",
       "      <td>149.0</td>\n",
       "      <td>-1.0</td>\n",
       "    </tr>\n",
       "    <tr>\n",
       "      <th>...</th>\n",
       "      <td>...</td>\n",
       "      <td>...</td>\n",
       "      <td>...</td>\n",
       "      <td>...</td>\n",
       "      <td>...</td>\n",
       "      <td>...</td>\n",
       "      <td>...</td>\n",
       "      <td>...</td>\n",
       "      <td>...</td>\n",
       "      <td>...</td>\n",
       "      <td>...</td>\n",
       "      <td>...</td>\n",
       "      <td>...</td>\n",
       "      <td>...</td>\n",
       "      <td>...</td>\n",
       "      <td>...</td>\n",
       "      <td>...</td>\n",
       "      <td>...</td>\n",
       "      <td>...</td>\n",
       "      <td>...</td>\n",
       "      <td>...</td>\n",
       "    </tr>\n",
       "    <tr>\n",
       "      <th>10267</th>\n",
       "      <td>17</td>\n",
       "      <td>22.936</td>\n",
       "      <td>0</td>\n",
       "      <td>21.231</td>\n",
       "      <td>0</td>\n",
       "      <td>23.701</td>\n",
       "      <td>0</td>\n",
       "      <td>124.9</td>\n",
       "      <td>1434.7</td>\n",
       "      <td>PWEHRL</td>\n",
       "      <td>12.580952</td>\n",
       "      <td>TAG</td>\n",
       "      <td>250</td>\n",
       "      <td>Free Practice 1</td>\n",
       "      <td>2973.0000</td>\n",
       "      <td>36.0</td>\n",
       "      <td>3847.0</td>\n",
       "      <td>101409.00</td>\n",
       "      <td>45.00000</td>\n",
       "      <td>171.0</td>\n",
       "      <td>0.0</td>\n",
       "    </tr>\n",
       "    <tr>\n",
       "      <th>10268</th>\n",
       "      <td>18</td>\n",
       "      <td>23.610</td>\n",
       "      <td>0</td>\n",
       "      <td>22.432</td>\n",
       "      <td>0</td>\n",
       "      <td>30.281</td>\n",
       "      <td>0</td>\n",
       "      <td>111.1</td>\n",
       "      <td>1511.0</td>\n",
       "      <td>PWEHRL</td>\n",
       "      <td>12.580952</td>\n",
       "      <td>TAG</td>\n",
       "      <td>235</td>\n",
       "      <td>Free Practice 1</td>\n",
       "      <td>2986.0000</td>\n",
       "      <td>361.0</td>\n",
       "      <td>3834.0</td>\n",
       "      <td>101413.00</td>\n",
       "      <td>0.00000</td>\n",
       "      <td>202.0</td>\n",
       "      <td>0.0</td>\n",
       "    </tr>\n",
       "    <tr>\n",
       "      <th>10269</th>\n",
       "      <td>19</td>\n",
       "      <td>137.100</td>\n",
       "      <td>0</td>\n",
       "      <td>22.681</td>\n",
       "      <td>0</td>\n",
       "      <td>24.308</td>\n",
       "      <td>0</td>\n",
       "      <td>46.1</td>\n",
       "      <td>1695.1</td>\n",
       "      <td>PWEHRL</td>\n",
       "      <td>12.580952</td>\n",
       "      <td>TAG</td>\n",
       "      <td>250</td>\n",
       "      <td>Free Practice 1</td>\n",
       "      <td>3005.0000</td>\n",
       "      <td>362.0</td>\n",
       "      <td>383.0</td>\n",
       "      <td>101419.00</td>\n",
       "      <td>1391.00000</td>\n",
       "      <td>203.0</td>\n",
       "      <td>0.0</td>\n",
       "    </tr>\n",
       "    <tr>\n",
       "      <th>10270</th>\n",
       "      <td>20</td>\n",
       "      <td>22.539</td>\n",
       "      <td>2</td>\n",
       "      <td>21.057</td>\n",
       "      <td>2</td>\n",
       "      <td>23.548</td>\n",
       "      <td>2</td>\n",
       "      <td>126.3</td>\n",
       "      <td>1762.3</td>\n",
       "      <td>PWEHRL</td>\n",
       "      <td>12.580952</td>\n",
       "      <td>TAG</td>\n",
       "      <td>250</td>\n",
       "      <td>Free Practice 1</td>\n",
       "      <td>2983.0000</td>\n",
       "      <td>362.0</td>\n",
       "      <td>3859.0</td>\n",
       "      <td>101416.00</td>\n",
       "      <td>254.00000</td>\n",
       "      <td>273.0</td>\n",
       "      <td>0.0</td>\n",
       "    </tr>\n",
       "    <tr>\n",
       "      <th>10271</th>\n",
       "      <td>21</td>\n",
       "      <td>23.193</td>\n",
       "      <td>0</td>\n",
       "      <td>22.026</td>\n",
       "      <td>0</td>\n",
       "      <td>24.056</td>\n",
       "      <td>0</td>\n",
       "      <td>122.4</td>\n",
       "      <td>1831.5</td>\n",
       "      <td>PWEHRL</td>\n",
       "      <td>12.580952</td>\n",
       "      <td>TAG</td>\n",
       "      <td>250</td>\n",
       "      <td>Free Practice 1</td>\n",
       "      <td>2974.0000</td>\n",
       "      <td>361.0</td>\n",
       "      <td>3852.0</td>\n",
       "      <td>101407.00</td>\n",
       "      <td>444.00000</td>\n",
       "      <td>193.0</td>\n",
       "      <td>0.0</td>\n",
       "    </tr>\n",
       "  </tbody>\n",
       "</table>\n",
       "<p>10272 rows × 21 columns</p>\n",
       "</div>"
      ],
      "text/plain": [
       "       Lap_Number       S1  S1_Improvement      S2  S2_Improvement      S3  \\\n",
       "0               1  343.300               0  35.427               0  43.313   \n",
       "1               2   25.674               2  33.399               2  41.922   \n",
       "2               3   28.129               0  34.091               0  57.248   \n",
       "3               1   65.000               0  38.416               0  56.833   \n",
       "4               2   28.013               0  36.743               0  44.716   \n",
       "...           ...      ...             ...     ...             ...     ...   \n",
       "10267          17   22.936               0  21.231               0  23.701   \n",
       "10268          18   23.610               0  22.432               0  30.281   \n",
       "10269          19  137.100               0  22.681               0  24.308   \n",
       "10270          20   22.539               2  21.057               2  23.548   \n",
       "10271          21   23.193               0  22.026               0  24.056   \n",
       "\n",
       "       S3_Improvement    Kph  Elapsed Driver_Name    Pit_Time  Team  Power  \\\n",
       "0                   0   28.8    422.0          SB  104.900000    JR    250   \n",
       "1                   2  120.5    523.0          SB  104.900000    JR    250   \n",
       "2                   0  101.9    642.5          SB  104.900000    JR    250   \n",
       "3                   0   75.9    160.2        LGRA    8.250000    AD    250   \n",
       "4                   0  111.2    269.7        LGRA    8.250000    AD    250   \n",
       "...               ...    ...      ...         ...         ...   ...    ...   \n",
       "10267               0  124.9   1434.7      PWEHRL   12.580952  TAG     250   \n",
       "10268               0  111.1   1511.0      PWEHRL   12.580952  TAG     235   \n",
       "10269               0   46.1   1695.1      PWEHRL   12.580952  TAG     250   \n",
       "10270               2  126.3   1762.3      PWEHRL   12.580952  TAG     250   \n",
       "10271               0  122.4   1831.5      PWEHRL   12.580952  TAG     250   \n",
       "\n",
       "                 Event   Air_Temp  Track_Temp  Humidity   Pressure  \\\n",
       "0      Free Practice 2    15.0556        18.6      60.0    1018.25   \n",
       "1      Free Practice 2    15.0556        18.7      60.0    1018.25   \n",
       "2      Free Practice 2    15.0556        18.7      60.0    1018.22   \n",
       "3      Free Practice 2    15.0556        18.5      60.0    1018.12   \n",
       "4      Free Practice 2    15.1111        18.5      60.0    1018.15   \n",
       "...                ...        ...         ...       ...        ...   \n",
       "10267  Free Practice 1  2973.0000        36.0    3847.0  101409.00   \n",
       "10268  Free Practice 1  2986.0000       361.0    3834.0  101413.00   \n",
       "10269  Free Practice 1  3005.0000       362.0     383.0  101419.00   \n",
       "10270  Free Practice 1  2983.0000       362.0    3859.0  101416.00   \n",
       "10271  Free Practice 1  2974.0000       361.0    3852.0  101407.00   \n",
       "\n",
       "       Wind_Speed  Wind_Direction  Rain  \n",
       "0         3.18280           175.0  -1.0  \n",
       "1         4.24374           161.0  -1.0  \n",
       "2         3.18280           148.0  -1.0  \n",
       "3         2.12187           157.0  -1.0  \n",
       "4         3.18280           149.0  -1.0  \n",
       "...           ...             ...   ...  \n",
       "10267    45.00000           171.0   0.0  \n",
       "10268     0.00000           202.0   0.0  \n",
       "10269  1391.00000           203.0   0.0  \n",
       "10270   254.00000           273.0   0.0  \n",
       "10271   444.00000           193.0   0.0  \n",
       "\n",
       "[10272 rows x 21 columns]"
      ]
     },
     "execution_count": 6,
     "metadata": {},
     "output_type": "execute_result"
    }
   ],
   "source": [
    "#pt = PowerTransformer(method='yeo-johnson')\n",
    "#X[num_columns] = pt.fit_transform(X[num_columns])\n",
    "X"
   ]
  },
  {
   "cell_type": "code",
   "execution_count": 7,
   "metadata": {},
   "outputs": [],
   "source": [
    "column_transformer = ColumnTransformer(\n",
    "[('num', StandardScaler(), num_columns),\n",
    "('obj', OneHotEncoder(), obj_columns)],\n",
    "remainder='passthrough')\n",
    "\n",
    "trans_X = column_transformer.fit_transform(X)"
   ]
  },
  {
   "cell_type": "code",
   "execution_count": 8,
   "metadata": {},
   "outputs": [
    {
     "data": {
      "text/plain": [
       "['../Models/Column_Transformer.pkl']"
      ]
     },
     "execution_count": 8,
     "metadata": {},
     "output_type": "execute_result"
    }
   ],
   "source": [
    "joblib.dump(column_transformer, '../Models/Column_Transformer.pkl')\n",
    "#joblib.dump(pt, '../Models/Power_Transformer.pkl')"
   ]
  },
  {
   "cell_type": "code",
   "execution_count": 9,
   "metadata": {},
   "outputs": [],
   "source": [
    "#trans_X = trans_X.toarray()\n",
    "y = np.asarray(y)"
   ]
  },
  {
   "cell_type": "code",
   "execution_count": 10,
   "metadata": {},
   "outputs": [],
   "source": [
    "test_x = trans_X[:1000,]\n",
    "test_y = y[:1000,]\n",
    "\n",
    "trans_X = trans_X[1000:,]\n",
    "y = y[1000:,]"
   ]
  },
  {
   "cell_type": "code",
   "execution_count": 11,
   "metadata": {},
   "outputs": [
    {
     "data": {
      "text/plain": [
       "(1000,)"
      ]
     },
     "execution_count": 11,
     "metadata": {},
     "output_type": "execute_result"
    }
   ],
   "source": [
    "test_y.shape"
   ]
  },
  {
   "cell_type": "markdown",
   "metadata": {},
   "source": [
    "# Train Test Split"
   ]
  },
  {
   "cell_type": "code",
   "execution_count": 12,
   "metadata": {},
   "outputs": [],
   "source": [
    "from sklearn.model_selection import train_test_split"
   ]
  },
  {
   "cell_type": "code",
   "execution_count": 13,
   "metadata": {},
   "outputs": [],
   "source": [
    "X_train, X_test, y_train, y_test = train_test_split(trans_X, y, random_state=16, test_size=0.2)"
   ]
  },
  {
   "cell_type": "markdown",
   "metadata": {},
   "source": [
    "# Gradient Boost Grid Search"
   ]
  },
  {
   "cell_type": "code",
   "execution_count": 14,
   "metadata": {},
   "outputs": [],
   "source": [
    "from sklearn.ensemble import GradientBoostingRegressor\n",
    "from sklearn.model_selection import RandomizedSearchCV\n",
    "from sklearn.metrics import make_scorer, mean_squared_log_error, mean_absolute_percentage_error\n",
    "from keras import backend as K"
   ]
  },
  {
   "cell_type": "code",
   "execution_count": 15,
   "metadata": {},
   "outputs": [],
   "source": [
    "def root_mean_squared_log_error(y_true, y_pred):\n",
    "        return np.sqrt(np.mean(np.square(np.log(1+y_pred) - np.log(1+y_true))))"
   ]
  },
  {
   "cell_type": "code",
   "execution_count": 16,
   "metadata": {},
   "outputs": [],
   "source": [
    "gb = GradientBoostingRegressor(random_state=42)"
   ]
  },
  {
   "cell_type": "code",
   "execution_count": 17,
   "metadata": {},
   "outputs": [],
   "source": [
    "scoring = {'MSLE': make_scorer(mean_squared_log_error),\n",
    "           'MAPE': make_scorer(mean_absolute_percentage_error)}"
   ]
  },
  {
   "cell_type": "code",
   "execution_count": 18,
   "metadata": {},
   "outputs": [],
   "source": [
    "random_grid = {\n",
    "    \"loss\":['squared_error', 'absolute_error', 'huber'],\n",
    "    \"learning_rate\": [0.001, 0.01, 0.025, 0.05, 0.075, 0.1, 0.15, 0.2],\n",
    "    \"min_samples_split\": np.linspace(1, 200, 10, dtype=int),\n",
    "    \"min_samples_leaf\": np.linspace(0.1, 0.5, 12),\n",
    "    \"max_depth\":[3,5,8,10,12],\n",
    "    \"max_features\":[\"log2\",\"sqrt\"],\n",
    "    \"criterion\": [\"friedman_mse\",  \"mae\"],\n",
    "    \"subsample\":[0.5, 0.618, 0.8, 0.85, 0.9, 0.95, 1.0],\n",
    "    \"n_estimators\":[10, 20, 30, 40, 50, 60, 70, 80, 90, 100]\n",
    "    }"
   ]
  },
  {
   "cell_type": "code",
   "execution_count": 19,
   "metadata": {},
   "outputs": [],
   "source": [
    "gb_random = RandomizedSearchCV(\n",
    "    estimator = gb, \n",
    "    param_distributions = random_grid, \n",
    "    n_iter = 100, \n",
    "    cv = 5, \n",
    "    verbose=2, \n",
    "    random_state=42, \n",
    "    n_jobs = -1)"
   ]
  },
  {
   "cell_type": "code",
   "execution_count": 20,
   "metadata": {
    "scrolled": true
   },
   "outputs": [
    {
     "name": "stdout",
     "output_type": "stream",
     "text": [
      "Fitting 5 folds for each of 100 candidates, totalling 500 fits\n"
     ]
    },
    {
     "name": "stderr",
     "output_type": "stream",
     "text": [
      "C:\\Users\\mcand\\Anaconda3\\lib\\site-packages\\sklearn\\model_selection\\_validation.py:372: FitFailedWarning: \n",
      "35 fits failed out of a total of 500.\n",
      "The score on these train-test partitions for these parameters will be set to nan.\n",
      "If these failures are not expected, you can try to debug them by setting error_score='raise'.\n",
      "\n",
      "Below are more details about the failures:\n",
      "--------------------------------------------------------------------------------\n",
      "35 fits failed with the following error:\n",
      "Traceback (most recent call last):\n",
      "  File \"C:\\Users\\mcand\\Anaconda3\\lib\\site-packages\\sklearn\\model_selection\\_validation.py\", line 681, in _fit_and_score\n",
      "    estimator.fit(X_train, y_train, **fit_params)\n",
      "  File \"C:\\Users\\mcand\\Anaconda3\\lib\\site-packages\\sklearn\\ensemble\\_gb.py\", line 586, in fit\n",
      "    n_stages = self._fit_stages(\n",
      "  File \"C:\\Users\\mcand\\Anaconda3\\lib\\site-packages\\sklearn\\ensemble\\_gb.py\", line 663, in _fit_stages\n",
      "    raw_predictions = self._fit_stage(\n",
      "  File \"C:\\Users\\mcand\\Anaconda3\\lib\\site-packages\\sklearn\\ensemble\\_gb.py\", line 246, in _fit_stage\n",
      "    tree.fit(X, residual, sample_weight=sample_weight, check_input=False)\n",
      "  File \"C:\\Users\\mcand\\Anaconda3\\lib\\site-packages\\sklearn\\tree\\_classes.py\", line 1315, in fit\n",
      "    super().fit(\n",
      "  File \"C:\\Users\\mcand\\Anaconda3\\lib\\site-packages\\sklearn\\tree\\_classes.py\", line 250, in fit\n",
      "    raise ValueError(\n",
      "ValueError: min_samples_split must be an integer greater than 1 or a float in (0.0, 1.0]; got the integer 1\n",
      "\n",
      "  warnings.warn(some_fits_failed_message, FitFailedWarning)\n",
      "C:\\Users\\mcand\\Anaconda3\\lib\\site-packages\\sklearn\\model_selection\\_search.py:969: UserWarning: One or more of the test scores are non-finite: [-0.01043927  0.01310549 -0.01422066  0.08462261  0.00450295  0.03284007\n",
      " -0.01277022  0.06243404  0.05025177 -0.011952    0.02471621 -0.00042083\n",
      " -0.00244106  0.06943888  0.0715704  -0.00145773 -0.00633913  0.04340751\n",
      " -0.01517301  0.01725632  0.09085115  0.02795023  0.08172406  0.03206729\n",
      " -0.00042026  0.08543734  0.06062374         nan -0.01395025  0.04250944\n",
      "  0.0575759  -0.00055436  0.04871992  0.10293033 -0.00235751  0.06026605\n",
      "  0.02440345         nan  0.07237052 -0.01330014  0.03553739  0.05197606\n",
      "  0.06739567 -0.01519525  0.00590674  0.01715794  0.00294909 -0.00043848\n",
      " -0.00218382 -0.01191803  0.03228141  0.05495135  0.04410339  0.00516787\n",
      " -0.00254092  0.01623157 -0.01230292  0.00602293 -0.00040103  0.04787537\n",
      " -0.00112298  0.03514801         nan  0.0230327  -0.00429809  0.02876436\n",
      "  0.08291223  0.07468446 -0.01176256 -0.01600282  0.0564636   0.04308796\n",
      "  0.00363428         nan -0.01100729 -0.01620966         nan  0.02121307\n",
      "  0.00991071 -0.00041634  0.06310384  0.0119113  -0.01360851 -0.01226641\n",
      "  0.03605524  0.02439457  0.09885823 -0.00020145 -0.00041536  0.07051023\n",
      "  0.01662329  0.0741467   0.10089219  0.06302835  0.07295207  0.01957308\n",
      "         nan  0.00360228         nan  0.00248919]\n",
      "  warnings.warn(\n"
     ]
    },
    {
     "data": {
      "text/plain": [
       "RandomizedSearchCV(cv=5, estimator=GradientBoostingRegressor(random_state=42),\n",
       "                   n_iter=100, n_jobs=-1,\n",
       "                   param_distributions={'criterion': ['friedman_mse', 'mae'],\n",
       "                                        'learning_rate': [0.001, 0.01, 0.025,\n",
       "                                                          0.05, 0.075, 0.1,\n",
       "                                                          0.15, 0.2],\n",
       "                                        'loss': ['squared_error',\n",
       "                                                 'absolute_error', 'huber'],\n",
       "                                        'max_depth': [3, 5, 8, 10, 12],\n",
       "                                        'max_features': ['log2', 'sqrt'],\n",
       "                                        'min_samples_leaf': array([0.1       , 0.13636364, 0.17272727, 0.20909091, 0.24545455,\n",
       "       0.28181818, 0.31818182, 0.35454545, 0.39090909, 0.42727273,\n",
       "       0.46363636, 0.5       ]),\n",
       "                                        'min_samples_split': array([  1,  23,  45,  67,  89, 111, 133, 155, 177, 200]),\n",
       "                                        'n_estimators': [10, 20, 30, 40, 50, 60,\n",
       "                                                         70, 80, 90, 100],\n",
       "                                        'subsample': [0.5, 0.618, 0.8, 0.85,\n",
       "                                                      0.9, 0.95, 1.0]},\n",
       "                   random_state=42, verbose=2)"
      ]
     },
     "execution_count": 20,
     "metadata": {},
     "output_type": "execute_result"
    }
   ],
   "source": [
    "gb_random.fit(X_train, y_train)"
   ]
  },
  {
   "cell_type": "code",
   "execution_count": null,
   "metadata": {},
   "outputs": [],
   "source": [
    "params = gb_random.best_params_"
   ]
  },
  {
   "cell_type": "code",
   "execution_count": null,
   "metadata": {},
   "outputs": [],
   "source": [
    "gb = GradientBoostingRegressor(**params)"
   ]
  },
  {
   "cell_type": "code",
   "execution_count": null,
   "metadata": {
    "scrolled": true
   },
   "outputs": [],
   "source": [
    "gb.fit(X_train, y_train)"
   ]
  },
  {
   "cell_type": "code",
   "execution_count": null,
   "metadata": {},
   "outputs": [],
   "source": [
    "predictions = gb.predict(X_test)"
   ]
  },
  {
   "cell_type": "code",
   "execution_count": null,
   "metadata": {},
   "outputs": [],
   "source": [
    "root_mean_squared_log_error(y_test, predictions)"
   ]
  },
  {
   "cell_type": "code",
   "execution_count": null,
   "metadata": {},
   "outputs": [],
   "source": [
    "predictions_test_x = gb.predict(test_x)"
   ]
  },
  {
   "cell_type": "code",
   "execution_count": null,
   "metadata": {},
   "outputs": [],
   "source": [
    "root_mean_squared_log_error(test_y, predictions_test_x)"
   ]
  },
  {
   "cell_type": "code",
   "execution_count": null,
   "metadata": {},
   "outputs": [],
   "source": [
    "joblib.dump(gb, '../Models/Gradient_Boost_Model.h5')"
   ]
  },
  {
   "cell_type": "code",
   "execution_count": null,
   "metadata": {},
   "outputs": [],
   "source": []
  }
 ],
 "metadata": {
  "kernelspec": {
   "display_name": "Python 3",
   "language": "python",
   "name": "python3"
  },
  "language_info": {
   "codemirror_mode": {
    "name": "ipython",
    "version": 3
   },
   "file_extension": ".py",
   "mimetype": "text/x-python",
   "name": "python",
   "nbconvert_exporter": "python",
   "pygments_lexer": "ipython3",
   "version": "3.8.3"
  }
 },
 "nbformat": 4,
 "nbformat_minor": 4
}
